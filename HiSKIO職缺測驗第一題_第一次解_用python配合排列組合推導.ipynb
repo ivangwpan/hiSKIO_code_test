{
  "nbformat": 4,
  "nbformat_minor": 0,
  "metadata": {
    "colab": {
      "provenance": []
    },
    "kernelspec": {
      "name": "python3",
      "display_name": "Python 3"
    },
    "language_info": {
      "name": "python"
    }
  },
  "cells": [
    {
      "cell_type": "code",
      "execution_count": 1,
      "metadata": {
        "colab": {
          "base_uri": "https://localhost:8080/"
        },
        "id": "2R22x5mt0_rT",
        "outputId": "9486ec06-aaa9-4ee8-d69d-be8806ba96ea"
      },
      "outputs": [
        {
          "output_type": "stream",
          "name": "stdout",
          "text": [
            "總共有55種登頂方法\n"
          ]
        }
      ],
      "source": [
        "#定義一次爬一階或一次爬兩階的登頂方法數計算函式\n",
        "def ladder(n):\n",
        "    #定義重複組合函式H\n",
        "    def H(m, n):\n",
        "        #定義階層計算函式!\n",
        "        def factorial(num):\n",
        "            if num < 0:\n",
        "                print(\"不接受負數\")\n",
        "            elif num == 0:\n",
        "                return 1\n",
        "            else:\n",
        "                fact = 1\n",
        "                while num > 0:\n",
        "                    fact *= num\n",
        "                    num -= 1\n",
        "                return fact\n",
        "        return factorial(m + n - 1) / factorial(n) / factorial(m - 1)\n",
        "    #計算登頂方法數\n",
        "    solution = 0\n",
        "    for a in range(n // 2 + 1):  #a是一次走兩階的數量\n",
        "        b = n - 2 * a            #b是一次走一階的數量\n",
        "        solution += H(b + 1 , a) #在a個一階之間(含頭尾)插入b個二階有幾種組合方式\n",
        "    print(f'總共有{int(solution)}種登頂方法')\n",
        "\n",
        "#舉例:總共n=9階有幾種登頂方法?\n",
        "ladder(9)"
      ]
    }
  ]
}